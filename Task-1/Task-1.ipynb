{
 "cells": [
  {
   "cell_type": "markdown",
   "id": "37012b77",
   "metadata": {},
   "source": [
    "#  Analysis on ML Test Scores"
   ]
  },
  {
   "cell_type": "markdown",
   "id": "f4849a9a",
   "metadata": {},
   "source": [
    "## Importing all Libraries"
   ]
  },
  {
   "cell_type": "code",
   "execution_count": 1,
   "id": "d3146720",
   "metadata": {},
   "outputs": [],
   "source": [
    "import numpy as np\n",
    "import pandas as pd\n",
    "import matplotlib.pyplot as plt\n",
    "import seaborn as sns\n",
    "\n",
    "import warnings\n",
    "warnings.filterwarnings(\"ignore\")"
   ]
  },
  {
   "cell_type": "markdown",
   "id": "41b4b102",
   "metadata": {},
   "source": [
    "## Loading The Data"
   ]
  },
  {
   "cell_type": "code",
   "execution_count": 2,
   "id": "896fdaf9",
   "metadata": {},
   "outputs": [
    {
     "data": {
      "text/html": [
       "<div>\n",
       "<style scoped>\n",
       "    .dataframe tbody tr th:only-of-type {\n",
       "        vertical-align: middle;\n",
       "    }\n",
       "\n",
       "    .dataframe tbody tr th {\n",
       "        vertical-align: top;\n",
       "    }\n",
       "\n",
       "    .dataframe thead th {\n",
       "        text-align: right;\n",
       "    }\n",
       "</style>\n",
       "<table border=\"1\" class=\"dataframe\">\n",
       "  <thead>\n",
       "    <tr style=\"text-align: right;\">\n",
       "      <th></th>\n",
       "      <th>Batch</th>\n",
       "      <th>User_ID</th>\n",
       "      <th>Score</th>\n",
       "    </tr>\n",
       "  </thead>\n",
       "  <tbody>\n",
       "    <tr>\n",
       "      <th>0</th>\n",
       "      <td>AI_ELITE_7</td>\n",
       "      <td>uid_149</td>\n",
       "      <td>6 / 7</td>\n",
       "    </tr>\n",
       "    <tr>\n",
       "      <th>1</th>\n",
       "      <td>AI_ELITE_7</td>\n",
       "      <td>uid_148</td>\n",
       "      <td>6 / 7</td>\n",
       "    </tr>\n",
       "    <tr>\n",
       "      <th>2</th>\n",
       "      <td>AI_ELITE_7</td>\n",
       "      <td>uid_147</td>\n",
       "      <td>7 / 7</td>\n",
       "    </tr>\n",
       "    <tr>\n",
       "      <th>3</th>\n",
       "      <td>AI_ELITE_7</td>\n",
       "      <td>uid_146</td>\n",
       "      <td>7 / 7</td>\n",
       "    </tr>\n",
       "    <tr>\n",
       "      <th>4</th>\n",
       "      <td>AI_ELITE_7</td>\n",
       "      <td>uid_145</td>\n",
       "      <td>4 / 7</td>\n",
       "    </tr>\n",
       "  </tbody>\n",
       "</table>\n",
       "</div>"
      ],
      "text/plain": [
       "       Batch  User_ID     Score   \n",
       "0  AI_ELITE_7  uid_149       6 / 7\n",
       "1  AI_ELITE_7  uid_148       6 / 7\n",
       "2  AI_ELITE_7  uid_147       7 / 7\n",
       "3  AI_ELITE_7  uid_146       7 / 7\n",
       "4  AI_ELITE_7  uid_145       4 / 7"
      ]
     },
     "execution_count": 2,
     "metadata": {},
     "output_type": "execute_result"
    }
   ],
   "source": [
    "df = pd.read_csv(\"scores_data.csv\")\n",
    "df.head()"
   ]
  },
  {
   "cell_type": "markdown",
   "id": "3f05999f",
   "metadata": {},
   "source": [
    "## Describing Data"
   ]
  },
  {
   "cell_type": "markdown",
   "id": "3e0e52de",
   "metadata": {},
   "source": [
    "Batch - Represents the Batch Name\n",
    "\n",
    "User_ID - Represents the unique student id\n",
    "\n",
    "Score - Represents the Score out of 7"
   ]
  },
  {
   "cell_type": "code",
   "execution_count": 3,
   "id": "8bd3d2de",
   "metadata": {},
   "outputs": [
    {
     "data": {
      "text/plain": [
       "(149, 3)"
      ]
     },
     "execution_count": 3,
     "metadata": {},
     "output_type": "execute_result"
    }
   ],
   "source": [
    "df.shape"
   ]
  },
  {
   "cell_type": "code",
   "execution_count": 4,
   "id": "ee9cdb30",
   "metadata": {},
   "outputs": [
    {
     "data": {
      "text/plain": [
       "Batch            3\n",
       "User_ID        149\n",
       "   Score         8\n",
       "dtype: int64"
      ]
     },
     "execution_count": 4,
     "metadata": {},
     "output_type": "execute_result"
    }
   ],
   "source": [
    "df.nunique()"
   ]
  },
  {
   "cell_type": "code",
   "execution_count": 5,
   "id": "21082b4d",
   "metadata": {},
   "outputs": [
    {
     "name": "stdout",
     "output_type": "stream",
     "text": [
      "<class 'pandas.core.frame.DataFrame'>\n",
      "RangeIndex: 149 entries, 0 to 148\n",
      "Data columns (total 3 columns):\n",
      " #   Column       Non-Null Count  Dtype \n",
      "---  ------       --------------  ----- \n",
      " 0   Batch        149 non-null    object\n",
      " 1   User_ID      149 non-null    object\n",
      " 2      Score     149 non-null    object\n",
      "dtypes: object(3)\n",
      "memory usage: 3.6+ KB\n"
     ]
    }
   ],
   "source": [
    "df.info()"
   ]
  },
  {
   "cell_type": "code",
   "execution_count": 6,
   "id": "4f5d0770",
   "metadata": {},
   "outputs": [
    {
     "data": {
      "text/plain": [
       "Index(['Batch', 'User_ID', 'Score'], dtype='object')"
      ]
     },
     "execution_count": 6,
     "metadata": {},
     "output_type": "execute_result"
    }
   ],
   "source": [
    "df.columns = df.columns.str.replace(' ', '')\n",
    "df.columns"
   ]
  },
  {
   "cell_type": "code",
   "execution_count": 7,
   "id": "5c7e5142",
   "metadata": {},
   "outputs": [
    {
     "name": "stdout",
     "output_type": "stream",
     "text": [
      "<class 'pandas.core.frame.DataFrame'>\n",
      "RangeIndex: 149 entries, 0 to 148\n",
      "Data columns (total 3 columns):\n",
      " #   Column   Non-Null Count  Dtype \n",
      "---  ------   --------------  ----- \n",
      " 0   Batch    149 non-null    object\n",
      " 1   User_ID  149 non-null    object\n",
      " 2   Score    149 non-null    object\n",
      "dtypes: object(3)\n",
      "memory usage: 3.6+ KB\n"
     ]
    }
   ],
   "source": [
    "df.info()"
   ]
  },
  {
   "cell_type": "markdown",
   "id": "5f5d1979",
   "metadata": {},
   "source": [
    "### Batch Column"
   ]
  },
  {
   "cell_type": "code",
   "execution_count": 8,
   "id": "96869c99",
   "metadata": {},
   "outputs": [
    {
     "data": {
      "text/plain": [
       "AI_ELITE_7    53\n",
       "AI_ELITE_6    48\n",
       "AI_ELITE_4    48\n",
       "Name: Batch, dtype: int64"
      ]
     },
     "execution_count": 8,
     "metadata": {},
     "output_type": "execute_result"
    }
   ],
   "source": [
    "df['Batch'].value_counts()"
   ]
  },
  {
   "cell_type": "code",
   "execution_count": 9,
   "id": "db48344f",
   "metadata": {},
   "outputs": [],
   "source": [
    "df['Batch'] = df['Batch'].str.replace('AI_ELITE_', '')\n",
    "df['Batch'] = df['Batch'].astype('int')"
   ]
  },
  {
   "cell_type": "code",
   "execution_count": 10,
   "id": "12baea10",
   "metadata": {},
   "outputs": [
    {
     "name": "stdout",
     "output_type": "stream",
     "text": [
      "<class 'pandas.core.frame.DataFrame'>\n",
      "RangeIndex: 149 entries, 0 to 148\n",
      "Data columns (total 3 columns):\n",
      " #   Column   Non-Null Count  Dtype \n",
      "---  ------   --------------  ----- \n",
      " 0   Batch    149 non-null    int32 \n",
      " 1   User_ID  149 non-null    object\n",
      " 2   Score    149 non-null    object\n",
      "dtypes: int32(1), object(2)\n",
      "memory usage: 3.0+ KB\n"
     ]
    }
   ],
   "source": [
    "df.info()"
   ]
  },
  {
   "cell_type": "code",
   "execution_count": 11,
   "id": "429e9be3",
   "metadata": {},
   "outputs": [
    {
     "data": {
      "text/html": [
       "<div>\n",
       "<style scoped>\n",
       "    .dataframe tbody tr th:only-of-type {\n",
       "        vertical-align: middle;\n",
       "    }\n",
       "\n",
       "    .dataframe tbody tr th {\n",
       "        vertical-align: top;\n",
       "    }\n",
       "\n",
       "    .dataframe thead th {\n",
       "        text-align: right;\n",
       "    }\n",
       "</style>\n",
       "<table border=\"1\" class=\"dataframe\">\n",
       "  <thead>\n",
       "    <tr style=\"text-align: right;\">\n",
       "      <th></th>\n",
       "      <th>Batch</th>\n",
       "      <th>User_ID</th>\n",
       "      <th>Score</th>\n",
       "    </tr>\n",
       "  </thead>\n",
       "  <tbody>\n",
       "    <tr>\n",
       "      <th>92</th>\n",
       "      <td>6</td>\n",
       "      <td>uid_57</td>\n",
       "      <td>2 / 7</td>\n",
       "    </tr>\n",
       "    <tr>\n",
       "      <th>129</th>\n",
       "      <td>4</td>\n",
       "      <td>uid_20</td>\n",
       "      <td>1 / 7</td>\n",
       "    </tr>\n",
       "    <tr>\n",
       "      <th>3</th>\n",
       "      <td>7</td>\n",
       "      <td>uid_146</td>\n",
       "      <td>7 / 7</td>\n",
       "    </tr>\n",
       "    <tr>\n",
       "      <th>17</th>\n",
       "      <td>7</td>\n",
       "      <td>uid_132</td>\n",
       "      <td>7 / 7</td>\n",
       "    </tr>\n",
       "    <tr>\n",
       "      <th>90</th>\n",
       "      <td>6</td>\n",
       "      <td>uid_59</td>\n",
       "      <td>3 / 7</td>\n",
       "    </tr>\n",
       "  </tbody>\n",
       "</table>\n",
       "</div>"
      ],
      "text/plain": [
       "     Batch  User_ID  Score\n",
       "92       6   uid_57  2 / 7\n",
       "129      4   uid_20  1 / 7\n",
       "3        7  uid_146  7 / 7\n",
       "17       7  uid_132  7 / 7\n",
       "90       6   uid_59  3 / 7"
      ]
     },
     "execution_count": 11,
     "metadata": {},
     "output_type": "execute_result"
    }
   ],
   "source": [
    "df.sample(5)"
   ]
  },
  {
   "cell_type": "code",
   "execution_count": 12,
   "id": "33febab5",
   "metadata": {},
   "outputs": [
    {
     "data": {
      "text/plain": [
       "7    53\n",
       "6    48\n",
       "4    48\n",
       "Name: Batch, dtype: int64"
      ]
     },
     "execution_count": 12,
     "metadata": {},
     "output_type": "execute_result"
    }
   ],
   "source": [
    "df['Batch'].value_counts()"
   ]
  },
  {
   "cell_type": "markdown",
   "id": "da1dfaab",
   "metadata": {},
   "source": [
    "### User_ID Column"
   ]
  },
  {
   "cell_type": "code",
   "execution_count": 13,
   "id": "86df1f8d",
   "metadata": {},
   "outputs": [],
   "source": [
    "df['User_ID'] = df['User_ID'].str.replace('uid_', '')\n",
    "df['User_ID'] = df['User_ID'].astype('int')"
   ]
  },
  {
   "cell_type": "code",
   "execution_count": 14,
   "id": "85f1a02b",
   "metadata": {},
   "outputs": [
    {
     "data": {
      "text/plain": [
       "array([149, 148, 147, 146, 145, 144, 143, 142, 141, 140, 139, 138, 137,\n",
       "       136, 135, 134, 133, 132, 131, 130, 129, 128, 127, 126, 125, 124,\n",
       "       123, 122, 121, 120, 119, 118, 117, 116, 115, 114, 113, 112, 111,\n",
       "       110, 109, 108, 107, 106, 105, 104, 103, 102, 101, 100,  99,  98,\n",
       "        97,  96,  95,  94,  93,  92,  91,  90,  89,  88,  87,  86,  85,\n",
       "        84,  83,  82,  81,  80,  79,  78,  77,  76,  75,  74,  73,  72,\n",
       "        71,  70,  69,  68,  67,  66,  65,  64,  63,  62,  61,  60,  59,\n",
       "        58,  57,  56,  55,  54,  53,  52,  51,  50,  49,  48,  47,  46,\n",
       "        45,  44,  43,  42,  41,  40,  39,  38,  37,  36,  35,  34,  33,\n",
       "        32,  31,  30,  29,  28,  27,  26,  25,  24,  23,  22,  21,  20,\n",
       "        19,  18,  17,  16,  15,  14,  13,  12,  11,  10,   9,   8,   7,\n",
       "         6,   5,   4,   3,   2,   1])"
      ]
     },
     "execution_count": 14,
     "metadata": {},
     "output_type": "execute_result"
    }
   ],
   "source": [
    "df['User_ID'].unique()"
   ]
  },
  {
   "cell_type": "code",
   "execution_count": 15,
   "id": "2dce0079",
   "metadata": {},
   "outputs": [
    {
     "name": "stdout",
     "output_type": "stream",
     "text": [
      "<class 'pandas.core.frame.DataFrame'>\n",
      "RangeIndex: 149 entries, 0 to 148\n",
      "Data columns (total 3 columns):\n",
      " #   Column   Non-Null Count  Dtype \n",
      "---  ------   --------------  ----- \n",
      " 0   Batch    149 non-null    int32 \n",
      " 1   User_ID  149 non-null    int32 \n",
      " 2   Score    149 non-null    object\n",
      "dtypes: int32(2), object(1)\n",
      "memory usage: 2.5+ KB\n"
     ]
    }
   ],
   "source": [
    "df.info()"
   ]
  },
  {
   "cell_type": "markdown",
   "id": "a4d7fdf2",
   "metadata": {},
   "source": [
    "### Score Column"
   ]
  },
  {
   "cell_type": "code",
   "execution_count": 16,
   "id": "bda638f2",
   "metadata": {},
   "outputs": [],
   "source": [
    "df['Score'] = df['Score'].str.replace('/ 7', '')\n",
    "df['Score'] = df['Score'].astype('int')"
   ]
  },
  {
   "cell_type": "code",
   "execution_count": 17,
   "id": "3af9ee91",
   "metadata": {},
   "outputs": [
    {
     "data": {
      "text/plain": [
       "4    40\n",
       "5    32\n",
       "3    24\n",
       "6    18\n",
       "7    18\n",
       "2    12\n",
       "1     3\n",
       "0     2\n",
       "Name: Score, dtype: int64"
      ]
     },
     "execution_count": 17,
     "metadata": {},
     "output_type": "execute_result"
    }
   ],
   "source": [
    "df['Score'].value_counts()"
   ]
  },
  {
   "cell_type": "code",
   "execution_count": 18,
   "id": "d80b1f5a",
   "metadata": {},
   "outputs": [
    {
     "name": "stdout",
     "output_type": "stream",
     "text": [
      "<class 'pandas.core.frame.DataFrame'>\n",
      "RangeIndex: 149 entries, 0 to 148\n",
      "Data columns (total 3 columns):\n",
      " #   Column   Non-Null Count  Dtype\n",
      "---  ------   --------------  -----\n",
      " 0   Batch    149 non-null    int32\n",
      " 1   User_ID  149 non-null    int32\n",
      " 2   Score    149 non-null    int32\n",
      "dtypes: int32(3)\n",
      "memory usage: 1.9 KB\n"
     ]
    }
   ],
   "source": [
    "df.info()"
   ]
  },
  {
   "cell_type": "code",
   "execution_count": 19,
   "id": "2d50332d",
   "metadata": {},
   "outputs": [
    {
     "data": {
      "text/html": [
       "<div>\n",
       "<style scoped>\n",
       "    .dataframe tbody tr th:only-of-type {\n",
       "        vertical-align: middle;\n",
       "    }\n",
       "\n",
       "    .dataframe tbody tr th {\n",
       "        vertical-align: top;\n",
       "    }\n",
       "\n",
       "    .dataframe thead th {\n",
       "        text-align: right;\n",
       "    }\n",
       "</style>\n",
       "<table border=\"1\" class=\"dataframe\">\n",
       "  <thead>\n",
       "    <tr style=\"text-align: right;\">\n",
       "      <th></th>\n",
       "      <th>Batch</th>\n",
       "      <th>User_ID</th>\n",
       "      <th>Score</th>\n",
       "    </tr>\n",
       "  </thead>\n",
       "  <tbody>\n",
       "    <tr>\n",
       "      <th>132</th>\n",
       "      <td>4</td>\n",
       "      <td>17</td>\n",
       "      <td>4</td>\n",
       "    </tr>\n",
       "    <tr>\n",
       "      <th>66</th>\n",
       "      <td>6</td>\n",
       "      <td>83</td>\n",
       "      <td>5</td>\n",
       "    </tr>\n",
       "    <tr>\n",
       "      <th>6</th>\n",
       "      <td>7</td>\n",
       "      <td>143</td>\n",
       "      <td>5</td>\n",
       "    </tr>\n",
       "    <tr>\n",
       "      <th>121</th>\n",
       "      <td>4</td>\n",
       "      <td>28</td>\n",
       "      <td>3</td>\n",
       "    </tr>\n",
       "    <tr>\n",
       "      <th>69</th>\n",
       "      <td>6</td>\n",
       "      <td>80</td>\n",
       "      <td>5</td>\n",
       "    </tr>\n",
       "  </tbody>\n",
       "</table>\n",
       "</div>"
      ],
      "text/plain": [
       "     Batch  User_ID  Score\n",
       "132      4       17      4\n",
       "66       6       83      5\n",
       "6        7      143      5\n",
       "121      4       28      3\n",
       "69       6       80      5"
      ]
     },
     "execution_count": 19,
     "metadata": {},
     "output_type": "execute_result"
    }
   ],
   "source": [
    "df.sample(5)"
   ]
  },
  {
   "cell_type": "code",
   "execution_count": 20,
   "id": "8ec41687",
   "metadata": {},
   "outputs": [],
   "source": [
    "df.rename(columns={'Batch':'AI_ELITE Batch','User_ID':'User_ID(uid)','Score':'Score(out of 7)'},inplace=True)"
   ]
  },
  {
   "cell_type": "code",
   "execution_count": 21,
   "id": "ed48312d",
   "metadata": {},
   "outputs": [
    {
     "name": "stdout",
     "output_type": "stream",
     "text": [
      "<class 'pandas.core.frame.DataFrame'>\n",
      "RangeIndex: 149 entries, 0 to 148\n",
      "Data columns (total 3 columns):\n",
      " #   Column           Non-Null Count  Dtype\n",
      "---  ------           --------------  -----\n",
      " 0   AI_ELITE Batch   149 non-null    int32\n",
      " 1   User_ID(uid)     149 non-null    int32\n",
      " 2   Score(out of 7)  149 non-null    int32\n",
      "dtypes: int32(3)\n",
      "memory usage: 1.9 KB\n"
     ]
    }
   ],
   "source": [
    "df.info()"
   ]
  },
  {
   "cell_type": "code",
   "execution_count": 22,
   "id": "f41664ad",
   "metadata": {},
   "outputs": [
    {
     "data": {
      "text/html": [
       "<div>\n",
       "<style scoped>\n",
       "    .dataframe tbody tr th:only-of-type {\n",
       "        vertical-align: middle;\n",
       "    }\n",
       "\n",
       "    .dataframe tbody tr th {\n",
       "        vertical-align: top;\n",
       "    }\n",
       "\n",
       "    .dataframe thead th {\n",
       "        text-align: right;\n",
       "    }\n",
       "</style>\n",
       "<table border=\"1\" class=\"dataframe\">\n",
       "  <thead>\n",
       "    <tr style=\"text-align: right;\">\n",
       "      <th></th>\n",
       "      <th>AI_ELITE Batch</th>\n",
       "      <th>User_ID(uid)</th>\n",
       "      <th>Score(out of 7)</th>\n",
       "    </tr>\n",
       "  </thead>\n",
       "  <tbody>\n",
       "    <tr>\n",
       "      <th>103</th>\n",
       "      <td>4</td>\n",
       "      <td>46</td>\n",
       "      <td>4</td>\n",
       "    </tr>\n",
       "    <tr>\n",
       "      <th>134</th>\n",
       "      <td>4</td>\n",
       "      <td>15</td>\n",
       "      <td>4</td>\n",
       "    </tr>\n",
       "    <tr>\n",
       "      <th>32</th>\n",
       "      <td>7</td>\n",
       "      <td>117</td>\n",
       "      <td>3</td>\n",
       "    </tr>\n",
       "    <tr>\n",
       "      <th>6</th>\n",
       "      <td>7</td>\n",
       "      <td>143</td>\n",
       "      <td>5</td>\n",
       "    </tr>\n",
       "    <tr>\n",
       "      <th>52</th>\n",
       "      <td>7</td>\n",
       "      <td>97</td>\n",
       "      <td>3</td>\n",
       "    </tr>\n",
       "  </tbody>\n",
       "</table>\n",
       "</div>"
      ],
      "text/plain": [
       "     AI_ELITE Batch  User_ID(uid)  Score(out of 7)\n",
       "103               4            46                4\n",
       "134               4            15                4\n",
       "32                7           117                3\n",
       "6                 7           143                5\n",
       "52                7            97                3"
      ]
     },
     "execution_count": 22,
     "metadata": {},
     "output_type": "execute_result"
    }
   ],
   "source": [
    "df.sample(5)"
   ]
  },
  {
   "cell_type": "code",
   "execution_count": 23,
   "id": "1d6f9d06",
   "metadata": {},
   "outputs": [
    {
     "data": {
      "text/plain": [
       "AI_ELITE Batch       3\n",
       "User_ID(uid)       149\n",
       "Score(out of 7)      8\n",
       "dtype: int64"
      ]
     },
     "execution_count": 23,
     "metadata": {},
     "output_type": "execute_result"
    }
   ],
   "source": [
    "df.nunique()"
   ]
  },
  {
   "cell_type": "markdown",
   "id": "7d566807",
   "metadata": {},
   "source": [
    "## Missing Values"
   ]
  },
  {
   "cell_type": "code",
   "execution_count": 24,
   "id": "78678f7d",
   "metadata": {},
   "outputs": [
    {
     "data": {
      "text/plain": [
       "AI_ELITE Batch     0\n",
       "User_ID(uid)       0\n",
       "Score(out of 7)    0\n",
       "dtype: int64"
      ]
     },
     "execution_count": 24,
     "metadata": {},
     "output_type": "execute_result"
    }
   ],
   "source": [
    "df.isnull().sum()"
   ]
  },
  {
   "cell_type": "markdown",
   "id": "e1eb6e84",
   "metadata": {},
   "source": [
    "## Duplicated Values"
   ]
  },
  {
   "cell_type": "code",
   "execution_count": 25,
   "id": "60cb7590",
   "metadata": {},
   "outputs": [
    {
     "data": {
      "text/plain": [
       "0"
      ]
     },
     "execution_count": 25,
     "metadata": {},
     "output_type": "execute_result"
    }
   ],
   "source": [
    "df.duplicated().sum()"
   ]
  },
  {
   "cell_type": "markdown",
   "id": "4ac7ae7e",
   "metadata": {},
   "source": [
    "## Descriptive Stats"
   ]
  },
  {
   "cell_type": "code",
   "execution_count": 26,
   "id": "d8d7e617",
   "metadata": {},
   "outputs": [
    {
     "data": {
      "text/html": [
       "<div>\n",
       "<style scoped>\n",
       "    .dataframe tbody tr th:only-of-type {\n",
       "        vertical-align: middle;\n",
       "    }\n",
       "\n",
       "    .dataframe tbody tr th {\n",
       "        vertical-align: top;\n",
       "    }\n",
       "\n",
       "    .dataframe thead th {\n",
       "        text-align: right;\n",
       "    }\n",
       "</style>\n",
       "<table border=\"1\" class=\"dataframe\">\n",
       "  <thead>\n",
       "    <tr style=\"text-align: right;\">\n",
       "      <th></th>\n",
       "      <th>AI_ELITE Batch</th>\n",
       "      <th>User_ID(uid)</th>\n",
       "      <th>Score(out of 7)</th>\n",
       "    </tr>\n",
       "  </thead>\n",
       "  <tbody>\n",
       "    <tr>\n",
       "      <th>count</th>\n",
       "      <td>149.000000</td>\n",
       "      <td>149.000000</td>\n",
       "      <td>149.000000</td>\n",
       "    </tr>\n",
       "    <tr>\n",
       "      <th>mean</th>\n",
       "      <td>5.711409</td>\n",
       "      <td>75.000000</td>\n",
       "      <td>4.382550</td>\n",
       "    </tr>\n",
       "    <tr>\n",
       "      <th>std</th>\n",
       "      <td>1.253618</td>\n",
       "      <td>43.156691</td>\n",
       "      <td>1.592199</td>\n",
       "    </tr>\n",
       "    <tr>\n",
       "      <th>min</th>\n",
       "      <td>4.000000</td>\n",
       "      <td>1.000000</td>\n",
       "      <td>0.000000</td>\n",
       "    </tr>\n",
       "    <tr>\n",
       "      <th>25%</th>\n",
       "      <td>4.000000</td>\n",
       "      <td>38.000000</td>\n",
       "      <td>3.000000</td>\n",
       "    </tr>\n",
       "    <tr>\n",
       "      <th>50%</th>\n",
       "      <td>6.000000</td>\n",
       "      <td>75.000000</td>\n",
       "      <td>4.000000</td>\n",
       "    </tr>\n",
       "    <tr>\n",
       "      <th>75%</th>\n",
       "      <td>7.000000</td>\n",
       "      <td>112.000000</td>\n",
       "      <td>5.000000</td>\n",
       "    </tr>\n",
       "    <tr>\n",
       "      <th>max</th>\n",
       "      <td>7.000000</td>\n",
       "      <td>149.000000</td>\n",
       "      <td>7.000000</td>\n",
       "    </tr>\n",
       "  </tbody>\n",
       "</table>\n",
       "</div>"
      ],
      "text/plain": [
       "       AI_ELITE Batch  User_ID(uid)  Score(out of 7)\n",
       "count      149.000000    149.000000       149.000000\n",
       "mean         5.711409     75.000000         4.382550\n",
       "std          1.253618     43.156691         1.592199\n",
       "min          4.000000      1.000000         0.000000\n",
       "25%          4.000000     38.000000         3.000000\n",
       "50%          6.000000     75.000000         4.000000\n",
       "75%          7.000000    112.000000         5.000000\n",
       "max          7.000000    149.000000         7.000000"
      ]
     },
     "execution_count": 26,
     "metadata": {},
     "output_type": "execute_result"
    }
   ],
   "source": [
    "df.describe()"
   ]
  },
  {
   "cell_type": "markdown",
   "id": "0ddf72a8",
   "metadata": {},
   "source": [
    "## UniVariate Analysis"
   ]
  },
  {
   "cell_type": "markdown",
   "id": "cfae1820",
   "metadata": {},
   "source": [
    "### BoxPlot"
   ]
  },
  {
   "cell_type": "code",
   "execution_count": 27,
   "id": "d6a03318",
   "metadata": {},
   "outputs": [
    {
     "data": {
      "image/png": "[encoded data removed]",
      "text/plain": [
       "<Figure size 432x288 with 1 Axes>"
      ]
     },
     "metadata": {
      "needs_background": "light"
     },
     "output_type": "display_data"
    }
   ],
   "source": [
    "# Detection of Outlier\n",
    "\n",
    "df['Score(out of 7)'].plot(kind='box')\n",
    "plt.show()"
   ]
  },
  {
   "cell_type": "code",
   "execution_count": 28,
   "id": "0c47c918",
   "metadata": {},
   "outputs": [
    {
     "data": {
      "image/png": "[encoded data removed]",
      "text/plain": [
       "<Figure size 432x288 with 1 Axes>"
      ]
     },
     "metadata": {
      "needs_background": "light"
     },
     "output_type": "display_data"
    }
   ],
   "source": [
    "# Detection of Outlier\n",
    "\n",
    "df['User_ID(uid)'].plot(kind='box')\n",
    "plt.show()"
   ]
  },
  {
   "cell_type": "code",
   "execution_count": 29,
   "id": "302d30ba",
   "metadata": {},
   "outputs": [
    {
     "data": {
      "image/png": "[encoded data removed]",
      "text/plain": [
       "<Figure size 432x288 with 1 Axes>"
      ]
     },
     "metadata": {
      "needs_background": "light"
     },
     "output_type": "display_data"
    }
   ],
   "source": [
    "# Detection of Outlier\n",
    "\n",
    "df['AI_ELITE Batch'].plot(kind='box')\n",
    "plt.show()"
   ]
  },
  {
   "cell_type": "markdown",
   "id": "2350d293",
   "metadata": {},
   "source": [
    "### CountPlot"
   ]
  },
  {
   "cell_type": "code",
   "execution_count": 30,
   "id": "37164821",
   "metadata": {},
   "outputs": [
    {
     "data": {
      "image/png": "[encoded data removed]",
      "text/plain": [
       "<Figure size 432x288 with 1 Axes>"
      ]
     },
     "metadata": {
      "needs_background": "light"
     },
     "output_type": "display_data"
    }
   ],
   "source": [
    "# Create a countplot for AI_ELITE Batch\n",
    "sns.countplot(df['AI_ELITE Batch'])\n",
    "plt.title('Count of AI_ELITE Batch')\n",
    "plt.xlabel('AI_ELITE Batch')\n",
    "plt.ylabel('Count')\n",
    "plt.show()"
   ]
  },
  {
   "cell_type": "code",
   "execution_count": 31,
   "id": "14363e38",
   "metadata": {},
   "outputs": [
    {
     "data": {
      "image/png": "[encoded data removed]",
      "text/plain": [
       "<Figure size 432x288 with 1 Axes>"
      ]
     },
     "metadata": {
      "needs_background": "light"
     },
     "output_type": "display_data"
    }
   ],
   "source": [
    "# Create a countplot for Score(out of 7)\n",
    "sns.countplot(df['Score(out of 7)'])\n",
    "plt.title('Count of Score(out of 7)')\n",
    "plt.xlabel('Score(out of 7)')\n",
    "plt.ylabel('Count')\n",
    "plt.show()"
   ]
  },
  {
   "cell_type": "markdown",
   "id": "7d05294a",
   "metadata": {},
   "source": [
    "### Histogram"
   ]
  },
  {
   "cell_type": "code",
   "execution_count": 32,
   "id": "6726d911",
   "metadata": {},
   "outputs": [
    {
     "data": {
      "image/png": "[encoded data removed]",
      "text/plain": [
       "<Figure size 432x288 with 1 Axes>"
      ]
     },
     "metadata": {
      "needs_background": "light"
     },
     "output_type": "display_data"
    }
   ],
   "source": [
    "# Create a histogram to show the distribution of AI_ELITE Batch\n",
    "plt.hist(df['AI_ELITE Batch'])\n",
    "plt.title('Distribution of AI_ELITE Batch')\n",
    "plt.xlabel('AI_ELITE Batch')\n",
    "plt.ylabel('Frequency')\n",
    "plt.show()"
   ]
  },
  {
   "cell_type": "code",
   "execution_count": 33,
   "id": "449e7b46",
   "metadata": {
    "scrolled": true
   },
   "outputs": [
    {
     "data": {
      "image/png": "[encoded data removed]",
      "text/plain": [
       "<Figure size 432x288 with 1 Axes>"
      ]
     },
     "metadata": {
      "needs_background": "light"
     },
     "output_type": "display_data"
    }
   ],
   "source": [
    "# Create a histogram to show the distribution of Score(out of 7)\n",
    "plt.hist(df['Score(out of 7)'], bins=7)\n",
    "plt.title('Distribution of Score(out of 7)')\n",
    "plt.xlabel('Score(out of 7)')\n",
    "plt.ylabel('Frequency')\n",
    "plt.show()"
   ]
  },
  {
   "cell_type": "markdown",
   "id": "7eda5b67",
   "metadata": {},
   "source": [
    "### Distplot"
   ]
  },
  {
   "cell_type": "code",
   "execution_count": 34,
   "id": "b36ababc",
   "metadata": {},
   "outputs": [
    {
     "data": {
      "text/plain": [
       "<AxesSubplot:xlabel='Score(out of 7)', ylabel='Density'>"
      ]
     },
     "execution_count": 34,
     "metadata": {},
     "output_type": "execute_result"
    },
    {
     "data": {
      "image/png": "[encoded data removed]",
      "text/plain": [
       "<Figure size 432x288 with 1 Axes>"
      ]
     },
     "metadata": {
      "needs_background": "light"
     },
     "output_type": "display_data"
    }
   ],
   "source": [
    "sns.distplot(df['Score(out of 7)'])"
   ]
  },
  {
   "cell_type": "code",
   "execution_count": 35,
   "id": "824835b0",
   "metadata": {},
   "outputs": [
    {
     "data": {
      "text/plain": [
       "<AxesSubplot:xlabel='AI_ELITE Batch', ylabel='Density'>"
      ]
     },
     "execution_count": 35,
     "metadata": {},
     "output_type": "execute_result"
    },
    {
     "data": {
      "image/png": "[encoded data removed]",
      "text/plain": [
       "<Figure size 432x288 with 1 Axes>"
      ]
     },
     "metadata": {
      "needs_background": "light"
     },
     "output_type": "display_data"
    }
   ],
   "source": [
    "sns.distplot(df['AI_ELITE Batch'])"
   ]
  },
  {
   "cell_type": "code",
   "execution_count": 36,
   "id": "676817b4",
   "metadata": {},
   "outputs": [
    {
     "data": {
      "text/plain": [
       "<AxesSubplot:xlabel='User_ID(uid)', ylabel='Density'>"
      ]
     },
     "execution_count": 36,
     "metadata": {},
     "output_type": "execute_result"
    },
    {
     "data": {
      "image/png": "[encoded data removed]",
      "text/plain": [
       "<Figure size 432x288 with 1 Axes>"
      ]
     },
     "metadata": {
      "needs_background": "light"
     },
     "output_type": "display_data"
    }
   ],
   "source": [
    "sns.distplot(df['User_ID(uid)'])"
   ]
  },
  {
   "cell_type": "markdown",
   "id": "738b71f9",
   "metadata": {},
   "source": [
    "### Kdeplot"
   ]
  },
  {
   "cell_type": "code",
   "execution_count": 37,
   "id": "c772b2e9",
   "metadata": {},
   "outputs": [
    {
     "data": {
      "text/plain": [
       "<AxesSubplot:xlabel='Score(out of 7)', ylabel='Density'>"
      ]
     },
     "execution_count": 37,
     "metadata": {},
     "output_type": "execute_result"
    },
    {
     "data": {
      "image/png": "[encoded data removed]",
      "text/plain": [
       "<Figure size 432x288 with 1 Axes>"
      ]
     },
     "metadata": {
      "needs_background": "light"
     },
     "output_type": "display_data"
    }
   ],
   "source": [
    "sns.kdeplot(df['Score(out of 7)'],color='b', shade=True)"
   ]
  },
  {
   "cell_type": "code",
   "execution_count": 38,
   "id": "34b73283",
   "metadata": {},
   "outputs": [
    {
     "data": {
      "text/plain": [
       "<AxesSubplot:xlabel='AI_ELITE Batch', ylabel='Density'>"
      ]
     },
     "execution_count": 38,
     "metadata": {},
     "output_type": "execute_result"
    },
    {
     "data": {
      "image/png": "[encoded data removed]",
      "text/plain": [
       "<Figure size 432x288 with 1 Axes>"
      ]
     },
     "metadata": {
      "needs_background": "light"
     },
     "output_type": "display_data"
    }
   ],
   "source": [
    "sns.kdeplot(df['AI_ELITE Batch'],color='r', shade=True)"
   ]
  },
  {
   "cell_type": "code",
   "execution_count": 39,
   "id": "8a99180b",
   "metadata": {},
   "outputs": [
    {
     "data": {
      "text/plain": [
       "<AxesSubplot:xlabel='User_ID(uid)', ylabel='Density'>"
      ]
     },
     "execution_count": 39,
     "metadata": {},
     "output_type": "execute_result"
    },
    {
     "data": {
      "image/png": "[encoded data removed]",
      "text/plain": [
       "<Figure size 432x288 with 1 Axes>"
      ]
     },
     "metadata": {
      "needs_background": "light"
     },
     "output_type": "display_data"
    }
   ],
   "source": [
    "sns.kdeplot(df['User_ID(uid)'],color='g', shade=True)"
   ]
  },
  {
   "cell_type": "markdown",
   "id": "c45d1f3c",
   "metadata": {},
   "source": [
    "## Bivariate Analysis"
   ]
  },
  {
   "cell_type": "markdown",
   "id": "2deadf75",
   "metadata": {},
   "source": [
    "### ScatterPlot"
   ]
  },
  {
   "cell_type": "code",
   "execution_count": 40,
   "id": "a3041d39",
   "metadata": {},
   "outputs": [
    {
     "data": {
      "image/png": "[encoded data removed]",
      "text/plain": [
       "<Figure size 432x288 with 1 Axes>"
      ]
     },
     "metadata": {
      "needs_background": "light"
     },
     "output_type": "display_data"
    }
   ],
   "source": [
    "# Create a scatter plot to show the relationship between AI_ELITE Batch and Score(out of 7)\n",
    "plt.scatter(df['AI_ELITE Batch'], df['Score(out of 7)'])\n",
    "plt.title('Relationship between AI_ELITE Batch and Score')\n",
    "plt.xlabel('AI_ELITE Batch')\n",
    "plt.ylabel('Score(out of 7)')\n",
    "plt.show()"
   ]
  },
  {
   "cell_type": "markdown",
   "id": "c7777dee",
   "metadata": {},
   "source": [
    "### CountPlot"
   ]
  },
  {
   "cell_type": "code",
   "execution_count": 41,
   "id": "cdf575a5",
   "metadata": {},
   "outputs": [
    {
     "data": {
      "image/png": "[encoded data removed]",
      "text/plain": [
       "<Figure size 432x288 with 1 Axes>"
      ]
     },
     "metadata": {
      "needs_background": "light"
     },
     "output_type": "display_data"
    }
   ],
   "source": [
    "# Create a count plot to show the distribution of scores\n",
    "sns.countplot(df['Score(out of 7)'])\n",
    "plt.title('Distribution of Scores')\n",
    "plt.xlabel('Score(out of 7)')\n",
    "plt.ylabel('Count')\n",
    "plt.show()"
   ]
  },
  {
   "cell_type": "markdown",
   "id": "4c0961a0",
   "metadata": {},
   "source": [
    "### KDE Distribution"
   ]
  },
  {
   "cell_type": "code",
   "execution_count": 42,
   "id": "5ec11bee",
   "metadata": {},
   "outputs": [
    {
     "data": {
      "image/png": "[encoded data removed]",
      "text/plain": [
       "<Figure size 432x288 with 1 Axes>"
      ]
     },
     "metadata": {
      "needs_background": "light"
     },
     "output_type": "display_data"
    }
   ],
   "source": [
    "# Create a KDE distribution plot to show the distribution of scores by batch\n",
    "sns.kdeplot(data=df, x=\"Score(out of 7)\", hue=\"AI_ELITE Batch\", fill=True, alpha=0.4)\n",
    "plt.title('Score Distribution by Batch')\n",
    "plt.xlabel('Score(out of 7)')\n",
    "plt.ylabel('Density')\n",
    "plt.show()"
   ]
  },
  {
   "cell_type": "markdown",
   "id": "7c8ad894",
   "metadata": {},
   "source": [
    "## Multivariate Analysis"
   ]
  },
  {
   "cell_type": "code",
   "execution_count": 43,
   "id": "fc3fce7d",
   "metadata": {},
   "outputs": [
    {
     "data": {
      "text/plain": [
       "<seaborn.axisgrid.PairGrid at 0x20418b75a60>"
      ]
     },
     "execution_count": 43,
     "metadata": {},
     "output_type": "execute_result"
    },
    {
     "data": {
      "image/png": "[encoded data removed]",
      "text/plain": [
       "<Figure size 441.5x360 with 6 Axes>"
      ]
     },
     "metadata": {
      "needs_background": "light"
     },
     "output_type": "display_data"
    }
   ],
   "source": [
    "sns.pairplot(data=df, hue='AI_ELITE Batch')"
   ]
  },
  {
   "cell_type": "markdown",
   "id": "28a1f557",
   "metadata": {},
   "source": [
    "# Insight"
   ]
  },
  {
   "cell_type": "markdown",
   "id": "28966cb3",
   "metadata": {},
   "source": [
    "### Finding which batch performed well according to mean scores"
   ]
  },
  {
   "cell_type": "code",
   "execution_count": 44,
   "id": "3b637dd4",
   "metadata": {},
   "outputs": [
    {
     "name": "stdout",
     "output_type": "stream",
     "text": [
      "AI_ELITE Batch\n",
      "4    3.791667\n",
      "6    4.229167\n",
      "7    5.056604\n",
      "Name: Score(out of 7), dtype: float64\n"
     ]
    }
   ],
   "source": [
    "# Calculate the mean score for each batch\n",
    "mean_scores = df.groupby('AI_ELITE Batch')['Score(out of 7)'].mean()\n",
    "\n",
    "# Print the mean scores for each batch\n",
    "print(mean_scores)"
   ]
  },
  {
   "cell_type": "code",
   "execution_count": 45,
   "id": "b1c167c3",
   "metadata": {},
   "outputs": [
    {
     "data": {
      "image/png": "[encoded data removed]",
      "text/plain": [
       "<Figure size 432x288 with 1 Axes>"
      ]
     },
     "metadata": {
      "needs_background": "light"
     },
     "output_type": "display_data"
    }
   ],
   "source": [
    "batch_avg = df.groupby('AI_ELITE Batch').mean()['Score(out of 7)']\n",
    "batch_avg.plot(kind='bar')\n",
    "plt.title('Average Score by Batch')\n",
    "plt.xlabel('Batch')\n",
    "plt.ylabel('Average Score')\n",
    "plt.show()"
   ]
  },
  {
   "cell_type": "markdown",
   "id": "aea80042",
   "metadata": {},
   "source": [
    "Hence AI_ELITE_7 Batch has highest mean score when compared to other 2 batches"
   ]
  },
  {
   "cell_type": "markdown",
   "id": "6d4caf77",
   "metadata": {},
   "source": [
    "##  Conclusion"
   ]
  },
  {
   "cell_type": "markdown",
   "id": "0948f5f6",
   "metadata": {},
   "source": [
    "AI_ELITE_7 -> Best Batch\n",
    "\n",
    "AI_ELITE_6 -> Average Performing Batch\n",
    "\n",
    "AI_ELITE_4 -> Weak Batch"
   ]
  }
 ],
 "metadata": {
  "kernelspec": {
   "display_name": "Python 3 (ipykernel)",
   "language": "python",
   "name": "python3"
  },
  "language_info": {
   "codemirror_mode": {
    "name": "ipython",
    "version": 3
   },
   "file_extension": ".py",
   "mimetype": "text/x-python",
   "name": "python",
   "nbconvert_exporter": "python",
   "pygments_lexer": "ipython3",
   "version": "3.8.13"
  }
 },
 "nbformat": 4,
 "nbformat_minor": 5
}
